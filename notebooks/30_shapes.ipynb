{
 "cells": [
  {
   "cell_type": "code",
   "execution_count": 1,
   "metadata": {},
   "outputs": [],
   "source": [
    "%%capture\n",
    "%pip install compas_notebook"
   ]
  },
  {
   "cell_type": "code",
   "execution_count": 2,
   "metadata": {},
   "outputs": [],
   "source": [
    "import random\n",
    "from compas.geometry import Pointcloud\n",
    "from compas.geometry import Box, Capsule, Cone, Cylinder, Sphere, Torus\n",
    "from compas.colors import Color, ColorMap\n",
    "from compas_notebook.viewer import Viewer"
   ]
  },
  {
   "cell_type": "code",
   "execution_count": 3,
   "metadata": {},
   "outputs": [],
   "source": [
    "cloud = Pointcloud.from_bounds(x=8, y=5, z=3, n=17)\n",
    "\n",
    "box = Box(1.0)\n",
    "capsule = Capsule(radius=0.3, height=1.0)\n",
    "cone = Cone(radius=0.3, height=1.0)\n",
    "cylinder = Cylinder(radius=0.3, height=1.0)\n",
    "sphere = Sphere(radius=1.0)\n",
    "torus = Torus(radius_axis=1.0, radius_pipe=0.3)\n",
    "\n",
    "shapes = [box, capsule, cone, cylinder, sphere, torus]\n",
    "colors = ColorMap.from_rgb()\n",
    "\n",
    "for i, shape in enumerate(shapes):\n",
    "    point = cloud.points[i]\n",
    "    shape.frame.point = point"
   ]
  },
  {
   "cell_type": "code",
   "execution_count": 4,
   "metadata": {},
   "outputs": [
    {
     "name": "stdout",
     "output_type": "stream",
     "text": [
      "PyThreeJS Model elements registered.\n",
      "PyThreeJS SceneObjects registered.\n",
      "TNA Notebook SceneObjects registered.\n"
     ]
    },
    {
     "data": {
      "application/vnd.jupyter.widget-view+json": {
       "model_id": "de921721a59e469f8275297949811ae8",
       "version_major": 2,
       "version_minor": 0
      },
      "text/plain": [
       "VBox(children=(HBox(children=(Button(icon='search-plus', layout=Layout(height='32px', width='48px'), style=But…"
      ]
     },
     "metadata": {},
     "output_type": "display_data"
    }
   ],
   "source": [
    "viewer = Viewer()\n",
    "\n",
    "for point in cloud:\n",
    "    viewer.scene.add(point, pointsize=0.1)\n",
    "\n",
    "for i, shape in enumerate(shapes):\n",
    "    viewer.scene.add(shape, color=colors(i, maxval=len(shapes)))\n",
    "\n",
    "viewer.show()"
   ]
  },
  {
   "cell_type": "code",
   "execution_count": null,
   "metadata": {},
   "outputs": [],
   "source": []
  }
 ],
 "metadata": {
  "kernelspec": {
   "display_name": "compas-dev",
   "language": "python",
   "name": "python3"
  },
  "language_info": {
   "codemirror_mode": {
    "name": "ipython",
    "version": 3
   },
   "file_extension": ".py",
   "mimetype": "text/x-python",
   "name": "python",
   "nbconvert_exporter": "python",
   "pygments_lexer": "ipython3",
   "version": "3.12.1"
  }
 },
 "nbformat": 4,
 "nbformat_minor": 2
}
