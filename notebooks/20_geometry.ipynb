{
 "cells": [
  {
   "cell_type": "code",
   "execution_count": 1,
   "metadata": {},
   "outputs": [],
   "source": [
    "%%capture\n",
    "%pip install compas_notebook"
   ]
  },
  {
   "cell_type": "code",
   "execution_count": 2,
   "metadata": {},
   "outputs": [],
   "source": [
    "from compas.geometry import Pointcloud\n",
    "from compas.geometry import Point, Line, Polyline\n",
    "from compas.colors import Color\n",
    "from compas_notebook.viewer import Viewer"
   ]
  },
  {
   "cell_type": "code",
   "execution_count": 3,
   "metadata": {},
   "outputs": [],
   "source": [
    "cloud = Pointcloud.from_bounds(x=8, y=5, z=3, n=13)\n",
    "\n",
    "point = Point(-1, 2, 3)\n",
    "line = Line([0, 0, 0], point)\n",
    "polyline = Polyline(cloud.points)"
   ]
  },
  {
   "cell_type": "code",
   "execution_count": 4,
   "metadata": {},
   "outputs": [
    {
     "name": "stdout",
     "output_type": "stream",
     "text": [
      "PyThreeJS Model elements registered.\n",
      "PyThreeJS SceneObjects registered.\n",
      "TNA Notebook SceneObjects registered.\n"
     ]
    },
    {
     "data": {
      "application/vnd.jupyter.widget-view+json": {
       "model_id": "1f3944f157e743a6bc086c5e13d6e644",
       "version_major": 2,
       "version_minor": 0
      },
      "text/plain": [
       "VBox(children=(HBox(children=(Button(icon='search-plus', layout=Layout(height='32px', width='48px'), style=But…"
      ]
     },
     "metadata": {},
     "output_type": "display_data"
    }
   ],
   "source": [
    "viewer = Viewer()\n",
    "\n",
    "viewer.scene.add(point, color=Color.red(), pointsize=0.3)\n",
    "viewer.scene.add(line)\n",
    "viewer.scene.add(polyline, color=Color.blue())\n",
    "viewer.scene.add(cloud, color=Color.green(), pointsize=0.3)\n",
    "\n",
    "viewer.show()"
   ]
  },
  {
   "cell_type": "code",
   "execution_count": null,
   "metadata": {},
   "outputs": [],
   "source": []
  }
 ],
 "metadata": {
  "kernelspec": {
   "display_name": "compas-dev",
   "language": "python",
   "name": "python3"
  },
  "language_info": {
   "codemirror_mode": {
    "name": "ipython",
    "version": 3
   },
   "file_extension": ".py",
   "mimetype": "text/x-python",
   "name": "python",
   "nbconvert_exporter": "python",
   "pygments_lexer": "ipython3",
   "version": "3.12.1"
  }
 },
 "nbformat": 4,
 "nbformat_minor": 2
}
