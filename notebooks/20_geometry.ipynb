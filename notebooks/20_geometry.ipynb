{
 "cells": [
  {
   "cell_type": "code",
   "execution_count": 1,
   "metadata": {},
   "outputs": [],
   "source": [
    "%pip install -q compas_notebook"
   ]
  },
  {
   "cell_type": "code",
   "execution_count": 2,
   "metadata": {},
   "outputs": [],
   "source": [
    "from compas.colors import Color\n",
    "from compas.geometry import Line\n",
    "from compas.geometry import Point\n",
    "from compas.geometry import Pointcloud\n",
    "from compas.geometry import Polyline\n",
    "from compas_notebook.viewer import Viewer"
   ]
  },
  {
   "cell_type": "code",
   "execution_count": 3,
   "metadata": {},
   "outputs": [],
   "source": [
    "cloud = Pointcloud.from_bounds(x=8, y=5, z=3, n=13)\n",
    "\n",
    "point = Point(-1, 2, 3)\n",
    "line = Line([0, 0, 0], point)\n",
    "polyline = Polyline(cloud.points)"
   ]
  },
  {
   "cell_type": "code",
   "execution_count": 4,
   "metadata": {},
   "outputs": [
    {
     "data": {
      "application/vnd.jupyter.widget-view+json": {
       "model_id": "a55820df515f4eb0a67494e16869aac2",
       "version_major": 2,
       "version_minor": 0
      },
      "text/plain": [
       "VBox(children=(HBox(children=(Button(icon='search-plus', layout=Layout(height='32px', width='48px'), style=But…"
      ]
     },
     "metadata": {},
     "output_type": "display_data"
    }
   ],
   "source": [
    "viewer = Viewer()\n",
    "\n",
    "viewer.scene.add(point, color=Color.red(), pointsize=0.3)\n",
    "viewer.scene.add(line)\n",
    "viewer.scene.add(polyline, color=Color.blue())\n",
    "viewer.scene.add(cloud, color=Color.green(), pointsize=0.3)\n",
    "\n",
    "viewer.show()"
   ]
  }
 ],
 "metadata": {
  "kernelspec": {
   "display_name": "compas2",
   "language": "python",
   "name": "python3"
  },
  "language_info": {
   "codemirror_mode": {
    "name": "ipython",
    "version": 3
   },
   "file_extension": ".py",
   "mimetype": "text/x-python",
   "name": "python",
   "nbconvert_exporter": "python",
   "pygments_lexer": "ipython3",
   "version": "3.12.1"
  }
 },
 "nbformat": 4,
 "nbformat_minor": 2
}
